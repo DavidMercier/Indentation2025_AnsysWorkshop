{
 "cells": [
  {
   "cell_type": "markdown",
   "metadata": {},
   "source": [
    "# Ansys CPFE UMAT Example\n",
    "Material: cp-Ti (HCP)"
   ]
  },
  {
   "cell_type": "code",
   "execution_count": 1,
   "metadata": {},
   "outputs": [
    {
     "ename": "SyntaxError",
     "evalue": "invalid syntax (2271305323.py, line 12)",
     "output_type": "error",
     "traceback": [
      "\u001b[1;36m  Cell \u001b[1;32mIn[1], line 12\u001b[1;36m\u001b[0m\n\u001b[1;33m    TB,ELAS,matid,,9,\u001b[0m\n\u001b[1;37m                  ^\u001b[0m\n\u001b[1;31mSyntaxError\u001b[0m\u001b[1;31m:\u001b[0m invalid syntax\n"
     ]
    }
   ],
   "source": [
    "!   Commands inserted into this file will be executed just prior to the ANSYS SOLVE command.\n",
    "!   These commands may supersede command settings set by Workbench.\n",
    "\n",
    "!   Active UNIT system in Workbench when this object was created:  Metric (um, kg, uN, s, V, mA)\n",
    "!   NOTE:  Any data that requires units (such as mass) is assumed to be in the consistent solver unit system.\n",
    "!                See Solving Units in the help system for more information.\n",
    "/prep7\n",
    "! Begin writing variables\n",
    "\n",
    "\n",
    "CTE = 1e-05 ! Coefficient of thermal expansion in 1/K\n",
    "EUL1 = 159 ! Euler angle 1 in degrees\n",
    "EUL2 = 65  ! Euler angle 2 in degrees\n",
    "EUL3 = 60  ! Euler angle 3 in degrees\n",
    "\n",
    "! Begin writing grain materials\n",
    "*SET,matid,1\n",
    "TB,ELAS,matid,,9,\n",
    "TBDATA,1,44714.0,44714.0,112368.0,12950.0,31600.0,31600.0,\n",
    "TBDATA,7,0.7264,0.3062,0.3062\n",
    "TB,CTE,matid,\n",
    "TBDATA,1,CTE,CTE,CTE\n",
    "TB,PLAS,matid\n",
    "TB,XTAL,matid,,3,ORIE\n",
    "TBDATA,1,EUL1,EUL2,EUL3\n",
    "TB,XTAL,matid,,1,NSLFAM\n",
    "TBDATA,1,5\n",
    "TB,XTAL,matid,,1,FORM\n",
    "TBDATA,1,1\n",
    "TB,XTAL,matid,,10,XPARAM\n",
    "TBDATA,1,2,0,45,30,1,1,\n",
    "TBDATA,7,1,1,1,1\n",
    "TB,XTAL,matid,1,18,HARD\n",
    "TBTEMP, 298.0,\n",
    "TBDATA,1,12,8.0,80.0,24.0,80.0,18.0,\n",
    "TBDATA,7,18.0,180.0,48.0,180.0,12.0,12.0,\n",
    "TBDATA,13,12.0,12.0,12.0,1.0,0.1,1.0\n",
    "TB,XTAL,matid,1,3,FLHCP\n",
    "TBTEMP, 298.0,\n",
    "TBDATA,1,0.001,6.25,1.587\n",
    "CMSEL,S,SX\n",
    "EMODIF,ALL,MAT,matid\n",
    "ALLSEL,ALL\n",
    "\n",
    "allsel,all\n",
    "TREF, 300.0\n",
    "TUNIF, 300.0\n",
    "/solu"
   ]
  }
 ],
 "metadata": {
  "kernelspec": {
   "display_name": "Python 3",
   "language": "python",
   "name": "python3"
  },
  "language_info": {
   "codemirror_mode": {
    "name": "ipython",
    "version": 3
   },
   "file_extension": ".py",
   "mimetype": "text/x-python",
   "name": "python",
   "nbconvert_exporter": "python",
   "pygments_lexer": "ipython3",
   "version": "3.11.4"
  }
 },
 "nbformat": 4,
 "nbformat_minor": 2
}
